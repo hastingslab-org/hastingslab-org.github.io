{
 "cells": [
  {
   "cell_type": "markdown",
   "id": "27430d9a-be0e-4610-b04b-4375391bbe8d",
   "metadata": {},
   "source": [
    "## Image-based AI - Predicting Age\n",
    "\n",
    "We show how AI models can make predictions from images, and show image-based explanations (salience maps). \n",
    "\n",
    "The case study we use is the prediction of age from images of the face. The distinction between predicted age and biological age (from various prediction mediums) is often considered to be a biomarker with relevance to health -- for a recent example of this type of study, see https://pubmed.ncbi.nlm.nih.gov/38190540/. \n",
    "\n",
    "Here, we focus only on the readily obtainable images of the face. We work from the FaceXFormer pre-trained model: \n"
   ]
  },
  {
   "cell_type": "code",
   "execution_count": null,
   "id": "f2705802-1252-4ac9-b2f3-c76f7d961694",
   "metadata": {},
   "outputs": [],
   "source": [
    "# Install requirements\n",
    "pip install torch==2.0.1+cu117 torchvision==0.15.2+cu117 torchaudio==2.0.2+cu117 --extra-index-url https://download.pytorch.org/whl/cu117\n",
    "pip install -r requirements.txt"
   ]
  },
  {
   "cell_type": "code",
   "execution_count": null,
   "id": "6a6055e0-3fd1-43c8-9def-86a1abceb57e",
   "metadata": {},
   "outputs": [],
   "source": []
  },
  {
   "cell_type": "code",
   "execution_count": null,
   "id": "0d16fcce-75c9-4b54-aff3-01c81d52bed4",
   "metadata": {},
   "outputs": [],
   "source": []
  },
  {
   "cell_type": "code",
   "execution_count": null,
   "id": "30d89a30-4d43-4f04-a10e-bec9537b4326",
   "metadata": {},
   "outputs": [],
   "source": []
  },
  {
   "cell_type": "markdown",
   "id": "45db28a9-5258-4cbd-8814-6240f5e279fa",
   "metadata": {},
   "source": [
    "### P.S. Brain age prediction \n",
    "\n",
    "For a more technical and involved case study, see https://www.medrxiv.org/content/10.1101/2022.09.06.22279594v2.full.pdf for an example of age prediction from brain MRI images. The source code and model weights are available at https://github.com/westman-neuroimaging-group/brainage-prediction-mri . \n",
    "\n"
   ]
  }
 ],
 "metadata": {
  "kernelspec": {
   "display_name": "Python 3 (ipykernel)",
   "language": "python",
   "name": "python3"
  },
  "language_info": {
   "codemirror_mode": {
    "name": "ipython",
    "version": 3
   },
   "file_extension": ".py",
   "mimetype": "text/x-python",
   "name": "python",
   "nbconvert_exporter": "python",
   "pygments_lexer": "ipython3",
   "version": "3.12.3"
  }
 },
 "nbformat": 4,
 "nbformat_minor": 5
}
